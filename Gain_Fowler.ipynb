{
 "cells": [
  {
   "cell_type": "markdown",
   "id": "f13ca9a1",
   "metadata": {},
   "source": [
    "# Imports"
   ]
  },
  {
   "cell_type": "code",
   "execution_count": 2,
   "id": "5c726c43",
   "metadata": {},
   "outputs": [],
   "source": [
    "import cv2\n",
    "import os\n",
    "from astropy.io import fits\n",
    "import numpy as np\n",
    "import matplotlib\n",
    "from matplotlib import pyplot as plt\n",
    "from matplotlib import colors"
   ]
  },
  {
   "cell_type": "markdown",
   "id": "6f753452",
   "metadata": {},
   "source": [
    "# Functions"
   ]
  },
  {
   "cell_type": "markdown",
   "id": "fa9c8c4a",
   "metadata": {},
   "source": [
    "### Image import"
   ]
  },
  {
   "cell_type": "markdown",
   "id": "b35f4c3d",
   "metadata": {},
   "source": [
    "This function imports the images in a single folder and saves them in an array"
   ]
  },
  {
   "cell_type": "code",
   "execution_count": 3,
   "id": "46d42e5d",
   "metadata": {},
   "outputs": [],
   "source": [
    "# Para leer las carpetas\n",
    "# https://stackoverflow.com/questions/30230592/loading-all-images-using-imread-from-a-given-folder\n",
    "# Para importar archivos .fits\n",
    "# https://docs.astropy.org/en/stable/io/fits/\n",
    "\n",
    "def load_images_from_folder(folder):\n",
    "    images = []\n",
    "    for filename in os.listdir(folder):\n",
    "        # We have to concatenate the folder name with the file name\n",
    "        hdul = fits.open(folder+filename)\n",
    "        if hdul[0] is not None:\n",
    "            images.append(hdul[0].data)\n",
    "    return images"
   ]
  },
  {
   "cell_type": "markdown",
   "id": "28c058ca",
   "metadata": {},
   "source": [
    "This function makes an array of arrays, in which each one has the images of a particular exposure time."
   ]
  },
  {
   "cell_type": "code",
   "execution_count": 4,
   "id": "86967be3",
   "metadata": {},
   "outputs": [],
   "source": [
    "def array_images(directory, m_bias, remove_bias):\n",
    "    images = []\n",
    "    for folder in os.listdir(directory):\n",
    "        # For each exposure time, we make an array containing the images\n",
    "        image_set = load_images_from_folder(directory+folder+\"/\")\n",
    "        if remove_bias:\n",
    "            images.append(image_set - m_bias)\n",
    "        else:\n",
    "            images.append(image_set)\n",
    "    return images\n",
    "        "
   ]
  },
  {
   "cell_type": "markdown",
   "id": "d39b8e72",
   "metadata": {},
   "source": [
    "## Master Bias\n",
    "\n",
    "Load master bias"
   ]
  },
  {
   "cell_type": "code",
   "execution_count": 5,
   "id": "e265fcec",
   "metadata": {},
   "outputs": [],
   "source": [
    "master_bias = np.load('master_bias.npy')"
   ]
  },
  {
   "cell_type": "markdown",
   "id": "b705e6a2",
   "metadata": {},
   "source": [
    "\n",
    "\n",
    "\n",
    "\n",
    "### Phtoton transfer method"
   ]
  },
  {
   "cell_type": "markdown",
   "id": "9cd15cb5",
   "metadata": {},
   "source": [
    "This function generates the sets of images to eventually the median and standard deviation images. As each integration image has five images, each integration time is going to have ten images for the average and ten images for the difference. We are going to generate two sets, one for the difference, and one for the average.\n",
    "\n",
    "This code can be written much more efficiently due to the fact that the each integration time is iterated upon in each function."
   ]
  },
  {
   "cell_type": "code",
   "execution_count": 6,
   "id": "8413f5f6",
   "metadata": {},
   "outputs": [],
   "source": [
    "def av_and_diff_set(image_set):\n",
    "    diff_set = []\n",
    "    av_set = []\n",
    "    # N: number of images per integration time\n",
    "    N = len(image_set[1])\n",
    "    # We go through each integration time.\n",
    "    # int_index: Integration index\n",
    "    for int_index in range(len(image_set)):\n",
    "        # Each integration time is going to have 10 diff and av sets.\n",
    "        diff_set_aux = []\n",
    "        av_set_aux = []\n",
    "        # For an image i, we make sets with the next N-i images.\n",
    "        for img_index in range(N):\n",
    "            # Here we work with the next N-i images.\n",
    "            for i in range(img_index+1, N):\n",
    "                # Compute the difference and average frames\n",
    "                difference = image_set[int_index][img_index] - image_set[int_index][i]\n",
    "                average = (image_set[int_index][img_index] + image_set[int_index][i])/2\n",
    "                diff_set_aux.append(difference)\n",
    "                av_set_aux.append(average)\n",
    "        diff_set.append(diff_set_aux)\n",
    "        av_set.append(av_set_aux)\n",
    "    return (diff_set, av_set)"
   ]
  },
  {
   "cell_type": "markdown",
   "id": "d61ee3b8",
   "metadata": {},
   "source": [
    "The following function divides the difference and average images into subimages of size MxM and computes the arrays of standar deviation and mean. We are going to assume that M is a factor of 1296."
   ]
  },
  {
   "cell_type": "code",
   "execution_count": 7,
   "id": "f4c46717",
   "metadata": {},
   "outputs": [],
   "source": [
    "def std_av_calculation(diff_set, av_set, M):\n",
    "    std_array = []\n",
    "    av_array = []\n",
    "    # N: number of images per integration time\n",
    "    N = len(diff_set[0])\n",
    "    # We go through each integration time.\n",
    "    # int_index: Integration index\n",
    "    for int_index in range(len(diff_set)):\n",
    "        # Each integration time is going to add (1296/M)*(1296/M)*10 values in each array (std and mean)\n",
    "        for img_index in range(N):\n",
    "            # We are going through each image in a specific integration time\n",
    "            # Current dif and av images being used\n",
    "            aux_diff_image = diff_set[int_index][img_index]\n",
    "            aux_av_image = av_set[int_index][img_index]\n",
    "            # We are going to use a function that does the subdivision and the calculation of the std and mean\n",
    "            aux_std_array, aux_av_array = sub_images_std_av(aux_diff_image, aux_av_image, M, img_index, int_index)\n",
    "            # Now we add these values to the final arrays\n",
    "            std_array = std_array + aux_std_array\n",
    "            av_array = av_array + aux_av_array\n",
    "    # We change the lists into arrays\n",
    "    std_array = np.array(std_array)\n",
    "    av_array = np.array(av_array)\n",
    "    return (std_array, av_array)\n",
    "    "
   ]
  },
  {
   "cell_type": "markdown",
   "id": "d56c4662",
   "metadata": {},
   "source": [
    "This function takes two images and returns two arrays that contain std and av of the subdivisions of the image."
   ]
  },
  {
   "cell_type": "code",
   "execution_count": 8,
   "id": "4b1146fc",
   "metadata": {},
   "outputs": [],
   "source": [
    "def sub_images_std_av(diff_image, av_image, M, img_index_debug, int_index_debug):\n",
    "    # These arrays have the std and av values of each image\n",
    "    aux_std_array = []\n",
    "    aux_av_array = []\n",
    "    image_size = 1296\n",
    "    # Now we need to know the ammount of \n",
    "    steps = int(image_size/M)\n",
    "    # We are going trough the image in boxes of size MxM\n",
    "    for row_index in range(steps):\n",
    "        for col_index in range(steps):\n",
    "            # We define the sub images\n",
    "            sub_diff_image = diff_image[row_index*M: row_index*M + M, col_index*M: col_index*M + M]\n",
    "            sub_av_image = av_image[row_index*M: row_index*M + M, col_index*M: col_index*M + M]\n",
    "            # Now we compute the average and std.\n",
    "            # We have to divide the result of the std by sqrt(2)\n",
    "            std = np.std(sub_diff_image)/np.sqrt(2)\n",
    "            mean = np.mean(sub_av_image)\n",
    "            #if 20000>(std*std)>10000:\n",
    "                #print('Integration index:', int_index_debug)\n",
    "                #print('Image index:', img_index_debug)\n",
    "                #print('Row index:', row_index)\n",
    "                #print('Column index:', col_index)\n",
    "            aux_std_array.append(std)\n",
    "            aux_av_array.append(mean)\n",
    "    return (aux_std_array, aux_av_array)\n",
    "            "
   ]
  },
  {
   "cell_type": "markdown",
   "id": "28809721",
   "metadata": {},
   "source": [
    "This is the function that combines the last three functions to return the final arrays for the photon transfer function."
   ]
  },
  {
   "cell_type": "code",
   "execution_count": 9,
   "id": "89815a06",
   "metadata": {},
   "outputs": [],
   "source": [
    "def photon_transfer_arrays(folder_location, M, m_bias, remove_bias):\n",
    "    # This function imports the images into an array.\n",
    "    imgs = array_images(folder_location, m_bias, remove_bias)\n",
    "    # Now we obtain the difference and average image sets\n",
    "    difference_set, average_set = av_and_diff_set(imgs)\n",
    "    # Now, we compute the final arrays\n",
    "    return std_av_calculation(difference_set, average_set, M)\n",
    "    "
   ]
  },
  {
   "cell_type": "markdown",
   "id": "b7260e01",
   "metadata": {},
   "source": [
    "# Tests"
   ]
  },
  {
   "cell_type": "markdown",
   "id": "c5c425d1",
   "metadata": {},
   "source": [
    "## Readout noise"
   ]
  },
  {
   "cell_type": "code",
   "execution_count": 10,
   "id": "06fe9892",
   "metadata": {},
   "outputs": [],
   "source": [
    "y, x = photon_transfer_arrays(\"FOWLER/3/\", 9, master_bias, True)"
   ]
  },
  {
   "cell_type": "code",
   "execution_count": 11,
   "id": "649bb4c0",
   "metadata": {},
   "outputs": [],
   "source": [
    "y_corr = []\n",
    "x_corr = []\n",
    "for i in range(len(x)):\n",
    "    if (y[i]*y[i])<6000:\n",
    "        y_corr.append(y[i])\n",
    "        x_corr.append(x[i])\n",
    "y_corr = np.array(y_corr)\n",
    "x_corr = np.array(x_corr)"
   ]
  },
  {
   "cell_type": "code",
   "execution_count": 12,
   "id": "d7f48a27",
   "metadata": {},
   "outputs": [
    {
     "name": "stderr",
     "output_type": "stream",
     "text": [
      "c:\\users\\7cg2r\\appdata\\local\\programs\\python\\python37\\lib\\site-packages\\ipykernel_launcher.py:2: MatplotlibDeprecationWarning: You are modifying the state of a globally registered colormap. This has been deprecated since 3.3 and in 3.6, you will not be able to modify a registered colormap in-place. To remove this warning, you can make a copy of the colormap first. cmap = mpl.cm.get_cmap(\"jet\").copy()\n",
      "  \n"
     ]
    },
    {
     "data": {
      "image/png": "[encoded data removed]",
      "text/plain": [
       "<Figure size 432x288 with 2 Axes>"
      ]
     },
     "metadata": {
      "needs_background": "light"
     },
     "output_type": "display_data"
    }
   ],
   "source": [
    "my_cmap = plt.cm.jet\n",
    "my_cmap.set_under('w',1)\n",
    "plt.hist2d(x_corr,y_corr*y_corr, norm=matplotlib.colors.LogNorm(), bins=(200, 200),cmap = my_cmap)\n",
    "plt.colorbar()\n",
    "plt.show()"
   ]
  },
  {
   "cell_type": "code",
   "execution_count": 13,
   "id": "896cf531",
   "metadata": {},
   "outputs": [
    {
     "name": "stdout",
     "output_type": "stream",
     "text": [
      "readout: 2.2901126294506957\n"
     ]
    }
   ],
   "source": [
    "p = np.polyfit(x_corr, y_corr*y_corr, 1)\n",
    "m = p[0]\n",
    "g = 1/m\n",
    "c = p[1]\n",
    "read_out = np.sqrt((c*g**2))\n",
    "print('readout:', read_out)"
   ]
  },
  {
   "cell_type": "markdown",
   "id": "1ba933e7",
   "metadata": {},
   "source": [
    "## Ganancia"
   ]
  },
  {
   "cell_type": "code",
   "execution_count": 14,
   "id": "fa7f81b0",
   "metadata": {},
   "outputs": [],
   "source": [
    "y, x = photon_transfer_arrays(\"FOWLER/1/\", 27, master_bias, True)"
   ]
  },
  {
   "cell_type": "code",
   "execution_count": 16,
   "id": "db750f4c",
   "metadata": {},
   "outputs": [],
   "source": [
    "y_corr = []\n",
    "x_corr = []\n",
    "for i in range(len(x)):\n",
    "    if (y[i]*y[i])<20000:\n",
    "        y_corr.append(y[i])\n",
    "        x_corr.append(x[i])\n",
    "y_corr = np.array(y_corr)\n",
    "x_corr = np.array(x_corr)"
   ]
  },
  {
   "cell_type": "code",
   "execution_count": 17,
   "id": "7965a154",
   "metadata": {},
   "outputs": [
    {
     "name": "stderr",
     "output_type": "stream",
     "text": [
      "c:\\users\\7cg2r\\appdata\\local\\programs\\python\\python37\\lib\\site-packages\\ipykernel_launcher.py:2: MatplotlibDeprecationWarning: You are modifying the state of a globally registered colormap. This has been deprecated since 3.3 and in 3.6, you will not be able to modify a registered colormap in-place. To remove this warning, you can make a copy of the colormap first. cmap = mpl.cm.get_cmap(\"jet\").copy()\n",
      "  \n"
     ]
    },
    {
     "data": {
      "image/png": "[encoded data removed]",
      "text/plain": [
       "<Figure size 432x288 with 2 Axes>"
      ]
     },
     "metadata": {
      "needs_background": "light"
     },
     "output_type": "display_data"
    }
   ],
   "source": [
    "my_cmap = plt.cm.jet\n",
    "my_cmap.set_under('w',1)\n",
    "plt.hist2d(x_corr,y_corr*y_corr, norm=matplotlib.colors.LogNorm(), bins=(200, 200),cmap = my_cmap)\n",
    "plt.colorbar()\n",
    "plt.show()"
   ]
  },
  {
   "cell_type": "code",
   "execution_count": 19,
   "id": "ca44bb6d",
   "metadata": {},
   "outputs": [
    {
     "name": "stdout",
     "output_type": "stream",
     "text": [
      "gain: 8.291887332146366\n"
     ]
    }
   ],
   "source": [
    "p = np.polyfit(x_corr, y_corr*y_corr, 1)\n",
    "m = p[0]\n",
    "g = 1/m\n",
    "c = p[1]\n",
    "read_out = np.sqrt((c*g**2))\n",
    "print('gain:', g)"
   ]
  },
  {
   "cell_type": "code",
   "execution_count": 15,
   "id": "83db73ed",
   "metadata": {},
   "outputs": [
    {
     "ename": "TypeError",
     "evalue": "array_images() missing 2 required positional arguments: 'm_bias' and 'remove_bias'",
     "output_type": "error",
     "traceback": [
      "\u001b[1;31m---------------------------------------------------------------------------\u001b[0m",
      "\u001b[1;31mTypeError\u001b[0m                                 Traceback (most recent call last)",
      "\u001b[1;32m~\\AppData\\Local\\Temp/ipykernel_17248/810573242.py\u001b[0m in \u001b[0;36m<module>\u001b[1;34m\u001b[0m\n\u001b[1;32m----> 1\u001b[1;33m \u001b[0mimgs\u001b[0m \u001b[1;33m=\u001b[0m \u001b[0marray_images\u001b[0m\u001b[1;33m(\u001b[0m\u001b[1;34m\"FOWLER/1/\"\u001b[0m\u001b[1;33m)\u001b[0m\u001b[1;33m\u001b[0m\u001b[1;33m\u001b[0m\u001b[0m\n\u001b[0m",
      "\u001b[1;31mTypeError\u001b[0m: array_images() missing 2 required positional arguments: 'm_bias' and 'remove_bias'"
     ]
    }
   ],
   "source": [
    "imgs = array_images(\"FOWLER/1/\")"
   ]
  },
  {
   "cell_type": "code",
   "execution_count": 17,
   "id": "212d1833",
   "metadata": {},
   "outputs": [],
   "source": [
    "a, b = av_and_diff_set(imgs)"
   ]
  },
  {
   "cell_type": "code",
   "execution_count": 18,
   "id": "2b934b0d",
   "metadata": {},
   "outputs": [
    {
     "name": "stdout",
     "output_type": "stream",
     "text": [
      "(16, 10, 1296, 1296)\n"
     ]
    }
   ],
   "source": [
    "print(np.shape(b))"
   ]
  },
  {
   "cell_type": "code",
   "execution_count": 26,
   "id": "ca4c76c8",
   "metadata": {},
   "outputs": [],
   "source": [
    "y, x = sub_images_std_av(a[13][0],b[13][0],27)"
   ]
  },
  {
   "cell_type": "code",
   "execution_count": 136,
   "id": "e3b5cbac",
   "metadata": {},
   "outputs": [
    {
     "name": "stdout",
     "output_type": "stream",
     "text": [
      "(368640,)\n",
      "368640.0\n"
     ]
    }
   ],
   "source": [
    "print(np.shape(y))\n",
    "print((1296/27)**2*10*16)"
   ]
  },
  {
   "cell_type": "code",
   "execution_count": 28,
   "id": "3c3fd562",
   "metadata": {},
   "outputs": [
    {
     "name": "stdout",
     "output_type": "stream",
     "text": [
      "(2304,)\n",
      "2304\n"
     ]
    }
   ],
   "source": [
    "print(np.shape(y))\n",
    "print(48*48)"
   ]
  },
  {
   "cell_type": "markdown",
   "id": "09c461b9",
   "metadata": {},
   "source": [
    "Integration index: 14\n",
    "Image index: 5\n",
    "Row index: 45\n",
    "Column index: 3"
   ]
  },
  {
   "cell_type": "code",
   "execution_count": 99,
   "id": "29ba3d2f",
   "metadata": {},
   "outputs": [
    {
     "ename": "IndexError",
     "evalue": "list index out of range",
     "output_type": "error",
     "traceback": [
      "\u001b[1;31m---------------------------------------------------------------------------\u001b[0m",
      "\u001b[1;31mIndexError\u001b[0m                                Traceback (most recent call last)",
      "\u001b[1;32m~\\AppData\\Local\\Temp/ipykernel_12856/3095964771.py\u001b[0m in \u001b[0;36m<module>\u001b[1;34m\u001b[0m\n\u001b[1;32m----> 1\u001b[1;33m \u001b[0msub_img\u001b[0m \u001b[1;33m=\u001b[0m \u001b[0ma\u001b[0m\u001b[1;33m[\u001b[0m\u001b[1;36m14\u001b[0m\u001b[1;33m]\u001b[0m\u001b[1;33m[\u001b[0m\u001b[1;36m10\u001b[0m\u001b[1;33m]\u001b[0m\u001b[1;33m[\u001b[0m\u001b[1;36m45\u001b[0m\u001b[1;33m*\u001b[0m\u001b[1;36m27\u001b[0m \u001b[1;33m:\u001b[0m \u001b[1;36m45\u001b[0m\u001b[1;33m*\u001b[0m\u001b[1;36m27\u001b[0m\u001b[1;33m+\u001b[0m\u001b[1;36m27\u001b[0m\u001b[1;33m,\u001b[0m\u001b[1;36m3\u001b[0m\u001b[1;33m*\u001b[0m\u001b[1;36m27\u001b[0m \u001b[1;33m:\u001b[0m \u001b[1;36m3\u001b[0m\u001b[1;33m*\u001b[0m\u001b[1;36m27\u001b[0m\u001b[1;33m+\u001b[0m\u001b[1;36m27\u001b[0m\u001b[1;33m]\u001b[0m\u001b[1;33m\u001b[0m\u001b[1;33m\u001b[0m\u001b[0m\n\u001b[0m\u001b[0;32m      2\u001b[0m \u001b[0mimgplot\u001b[0m \u001b[1;33m=\u001b[0m \u001b[0mplt\u001b[0m\u001b[1;33m.\u001b[0m\u001b[0mimshow\u001b[0m\u001b[1;33m(\u001b[0m\u001b[0msub_img\u001b[0m\u001b[1;33m)\u001b[0m\u001b[1;33m\u001b[0m\u001b[1;33m\u001b[0m\u001b[0m\n\u001b[0;32m      3\u001b[0m \u001b[0mplt\u001b[0m\u001b[1;33m.\u001b[0m\u001b[0mcolorbar\u001b[0m\u001b[1;33m(\u001b[0m\u001b[1;33m)\u001b[0m\u001b[1;33m\u001b[0m\u001b[1;33m\u001b[0m\u001b[0m\n\u001b[0;32m      4\u001b[0m \u001b[0mprint\u001b[0m\u001b[1;33m(\u001b[0m\u001b[0mnp\u001b[0m\u001b[1;33m.\u001b[0m\u001b[0mstd\u001b[0m\u001b[1;33m(\u001b[0m\u001b[0msub_img\u001b[0m\u001b[1;33m)\u001b[0m\u001b[1;33m**\u001b[0m\u001b[1;36m2\u001b[0m\u001b[1;33m)\u001b[0m\u001b[1;33m\u001b[0m\u001b[1;33m\u001b[0m\u001b[0m\n",
      "\u001b[1;31mIndexError\u001b[0m: list index out of range"
     ]
    }
   ],
   "source": [
    "sub_img = a[14][10][45*27 : 45*27+27,3*27 : 3*27+27]\n",
    "imgplot = plt.imshow(sub_img)\n",
    "plt.colorbar()\n",
    "print(np.std(sub_img)**2)"
   ]
  },
  {
   "cell_type": "code",
   "execution_count": 9,
   "id": "600be03b",
   "metadata": {},
   "outputs": [
    {
     "data": {
      "text/plain": [
       "<matplotlib.colorbar.Colorbar at 0x1eab3f4a108>"
      ]
     },
     "execution_count": 9,
     "metadata": {},
     "output_type": "execute_result"
    },
    {
     "data": {
      "image/png": "[encoded data removed]",
      "text/plain": [
       "<Figure size 432x288 with 2 Axes>"
      ]
     },
     "metadata": {
      "needs_background": "light"
     },
     "output_type": "display_data"
    }
   ],
   "source": [
    "imgplot = plt.imshow(b[13][0][500 : 527,500 : 527])\n",
    "plt.colorbar()"
   ]
  },
  {
   "cell_type": "code",
   "execution_count": null,
   "id": "af591d59",
   "metadata": {},
   "outputs": [],
   "source": []
  }
 ],
 "metadata": {
  "kernelspec": {
   "display_name": "Python 3 (ipykernel)",
   "language": "python",
   "name": "python3"
  },
  "language_info": {
   "codemirror_mode": {
    "name": "ipython",
    "version": 3
   },
   "file_extension": ".py",
   "mimetype": "text/x-python",
   "name": "python",
   "nbconvert_exporter": "python",
   "pygments_lexer": "ipython3",
   "version": "3.7.8"
  }
 },
 "nbformat": 4,
 "nbformat_minor": 5
}
